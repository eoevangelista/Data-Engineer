{
  "nbformat": 4,
  "nbformat_minor": 0,
  "metadata": {
    "kernelspec": {
      "display_name": "Python 3",
      "language": "python",
      "name": "python3"
    },
    "language_info": {
      "codemirror_mode": {
        "name": "ipython",
        "version": 3
      },
      "file_extension": ".py",
      "mimetype": "text/x-python",
      "name": "python",
      "nbconvert_exporter": "python",
      "pygments_lexer": "ipython3",
      "version": "3.6.11"
    },
    "colab": {
      "name": "DesafioFinal_csv.ipynb",
      "provenance": [],
      "collapsed_sections": []
    }
  },
  "cells": [
    {
      "cell_type": "markdown",
      "metadata": {
        "id": "M4bV2_gitIm7"
      },
      "source": [
        "#**Exercise (part 1) about:**\r\n",
        "## ✓ Data Pipelines.\r\n",
        "## ✓ NoSQL database connection.\r\n",
        "## ✓ Use and connection in APIs.\r\n",
        "## ✓ Data Lake in S3 AWS.\r\n",
        "## ✓ Distributed data processing."
      ]
    },
    {
      "cell_type": "markdown",
      "metadata": {
        "id": "BtTCrmkN9cY8"
      },
      "source": [
        "***Install and manage software packages for the exercice***"
      ]
    },
    {
      "cell_type": "code",
      "metadata": {
        "id": "gR-gVeKf8dNa"
      },
      "source": [
        "!pip install ibge # package from Pypi (Collection of APIs for the IBGE [Brazilian Institute of Geography and Statistics] Data Services in Brazil)\n",
        "!pip install boto3 # For connection with AWS S3\n",
        "!pip install pymongo[srv] # For connection with mongodb in cloud. "
      ],
      "execution_count": null,
      "outputs": []
    },
    {
      "cell_type": "markdown",
      "metadata": {
        "id": "4GCZD1EZ-j9H"
      },
      "source": [
        "**Importing modules to be used**"
      ]
    },
    {
      "cell_type": "code",
      "metadata": {
        "id": "mk97Vy2Y8dNj"
      },
      "source": [
        "from ibge.localidades import *\n",
        "import pandas as pd\n",
        "import boto3\n",
        "import pymongo"
      ],
      "execution_count": null,
      "outputs": []
    },
    {
      "cell_type": "markdown",
      "metadata": {
        "id": "jK7RqHmF_Kl9"
      },
      "source": [
        "**Assigning and testing ibge loading**"
      ]
    },
    {
      "cell_type": "code",
      "metadata": {
        "scrolled": false,
        "id": "vkAlIK7l8dNn",
        "colab": {
          "base_uri": "https://localhost:8080/"
        },
        "outputId": "378f4aaa-c1ae-4fcf-a659-5b3ae049902d"
      },
      "source": [
        "dataRegiao = Regioes()\n",
        "dataRegiao.count()"
      ],
      "execution_count": 3,
      "outputs": [
        {
          "output_type": "execute_result",
          "data": {
            "text/plain": [
              "5"
            ]
          },
          "metadata": {
            "tags": []
          },
          "execution_count": 3
        }
      ]
    },
    {
      "cell_type": "code",
      "metadata": {
        "id": "HocUVBze8dNo",
        "colab": {
          "base_uri": "https://localhost:8080/"
        },
        "outputId": "a72a0f41-18a9-4f4a-cb05-89b9d1666847"
      },
      "source": [
        "dataEstado = Estados()\n",
        "dataEstado.count()"
      ],
      "execution_count": 4,
      "outputs": [
        {
          "output_type": "execute_result",
          "data": {
            "text/plain": [
              "27"
            ]
          },
          "metadata": {
            "tags": []
          },
          "execution_count": 4
        }
      ]
    },
    {
      "cell_type": "code",
      "metadata": {
        "id": "OBGx7dz68dNq",
        "colab": {
          "base_uri": "https://localhost:8080/"
        },
        "outputId": "173dcd81-2792-46a4-c2b3-e36579fff155"
      },
      "source": [
        "dataMunicipio = Municipios()\n",
        "dataMunicipio.count()"
      ],
      "execution_count": 5,
      "outputs": [
        {
          "output_type": "execute_result",
          "data": {
            "text/plain": [
              "5570"
            ]
          },
          "metadata": {
            "tags": []
          },
          "execution_count": 5
        }
      ]
    },
    {
      "cell_type": "code",
      "metadata": {
        "id": "bVyS96Uq8dNt",
        "colab": {
          "base_uri": "https://localhost:8080/"
        },
        "outputId": "fd9b144f-610a-4a69-e345-34350b4f4b9d"
      },
      "source": [
        "dataRegiao.json()"
      ],
      "execution_count": 6,
      "outputs": [
        {
          "output_type": "execute_result",
          "data": {
            "text/plain": [
              "[{'id': 1, 'nome': 'Norte', 'sigla': 'N'},\n",
              " {'id': 2, 'nome': 'Nordeste', 'sigla': 'NE'},\n",
              " {'id': 3, 'nome': 'Sudeste', 'sigla': 'SE'},\n",
              " {'id': 4, 'nome': 'Sul', 'sigla': 'S'},\n",
              " {'id': 5, 'nome': 'Centro-Oeste', 'sigla': 'CO'}]"
            ]
          },
          "metadata": {
            "tags": []
          },
          "execution_count": 6
        }
      ]
    },
    {
      "cell_type": "code",
      "metadata": {
        "id": "jgGXxaVo8dNv",
        "colab": {
          "base_uri": "https://localhost:8080/"
        },
        "outputId": "0081e6b9-2e5d-4f9c-bd5a-7c0fc30021ae"
      },
      "source": [
        "dataEstado.json()"
      ],
      "execution_count": 7,
      "outputs": [
        {
          "output_type": "execute_result",
          "data": {
            "text/plain": [
              "[{'id': 11,\n",
              "  'nome': 'Rondônia',\n",
              "  'regiao': {'id': 1, 'nome': 'Norte', 'sigla': 'N'},\n",
              "  'sigla': 'RO'},\n",
              " {'id': 12,\n",
              "  'nome': 'Acre',\n",
              "  'regiao': {'id': 1, 'nome': 'Norte', 'sigla': 'N'},\n",
              "  'sigla': 'AC'},\n",
              " {'id': 13,\n",
              "  'nome': 'Amazonas',\n",
              "  'regiao': {'id': 1, 'nome': 'Norte', 'sigla': 'N'},\n",
              "  'sigla': 'AM'},\n",
              " {'id': 14,\n",
              "  'nome': 'Roraima',\n",
              "  'regiao': {'id': 1, 'nome': 'Norte', 'sigla': 'N'},\n",
              "  'sigla': 'RR'},\n",
              " {'id': 15,\n",
              "  'nome': 'Pará',\n",
              "  'regiao': {'id': 1, 'nome': 'Norte', 'sigla': 'N'},\n",
              "  'sigla': 'PA'},\n",
              " {'id': 16,\n",
              "  'nome': 'Amapá',\n",
              "  'regiao': {'id': 1, 'nome': 'Norte', 'sigla': 'N'},\n",
              "  'sigla': 'AP'},\n",
              " {'id': 17,\n",
              "  'nome': 'Tocantins',\n",
              "  'regiao': {'id': 1, 'nome': 'Norte', 'sigla': 'N'},\n",
              "  'sigla': 'TO'},\n",
              " {'id': 21,\n",
              "  'nome': 'Maranhão',\n",
              "  'regiao': {'id': 2, 'nome': 'Nordeste', 'sigla': 'NE'},\n",
              "  'sigla': 'MA'},\n",
              " {'id': 22,\n",
              "  'nome': 'Piauí',\n",
              "  'regiao': {'id': 2, 'nome': 'Nordeste', 'sigla': 'NE'},\n",
              "  'sigla': 'PI'},\n",
              " {'id': 23,\n",
              "  'nome': 'Ceará',\n",
              "  'regiao': {'id': 2, 'nome': 'Nordeste', 'sigla': 'NE'},\n",
              "  'sigla': 'CE'},\n",
              " {'id': 24,\n",
              "  'nome': 'Rio Grande do Norte',\n",
              "  'regiao': {'id': 2, 'nome': 'Nordeste', 'sigla': 'NE'},\n",
              "  'sigla': 'RN'},\n",
              " {'id': 25,\n",
              "  'nome': 'Paraíba',\n",
              "  'regiao': {'id': 2, 'nome': 'Nordeste', 'sigla': 'NE'},\n",
              "  'sigla': 'PB'},\n",
              " {'id': 26,\n",
              "  'nome': 'Pernambuco',\n",
              "  'regiao': {'id': 2, 'nome': 'Nordeste', 'sigla': 'NE'},\n",
              "  'sigla': 'PE'},\n",
              " {'id': 27,\n",
              "  'nome': 'Alagoas',\n",
              "  'regiao': {'id': 2, 'nome': 'Nordeste', 'sigla': 'NE'},\n",
              "  'sigla': 'AL'},\n",
              " {'id': 28,\n",
              "  'nome': 'Sergipe',\n",
              "  'regiao': {'id': 2, 'nome': 'Nordeste', 'sigla': 'NE'},\n",
              "  'sigla': 'SE'},\n",
              " {'id': 29,\n",
              "  'nome': 'Bahia',\n",
              "  'regiao': {'id': 2, 'nome': 'Nordeste', 'sigla': 'NE'},\n",
              "  'sigla': 'BA'},\n",
              " {'id': 31,\n",
              "  'nome': 'Minas Gerais',\n",
              "  'regiao': {'id': 3, 'nome': 'Sudeste', 'sigla': 'SE'},\n",
              "  'sigla': 'MG'},\n",
              " {'id': 32,\n",
              "  'nome': 'Espírito Santo',\n",
              "  'regiao': {'id': 3, 'nome': 'Sudeste', 'sigla': 'SE'},\n",
              "  'sigla': 'ES'},\n",
              " {'id': 33,\n",
              "  'nome': 'Rio de Janeiro',\n",
              "  'regiao': {'id': 3, 'nome': 'Sudeste', 'sigla': 'SE'},\n",
              "  'sigla': 'RJ'},\n",
              " {'id': 35,\n",
              "  'nome': 'São Paulo',\n",
              "  'regiao': {'id': 3, 'nome': 'Sudeste', 'sigla': 'SE'},\n",
              "  'sigla': 'SP'},\n",
              " {'id': 41,\n",
              "  'nome': 'Paraná',\n",
              "  'regiao': {'id': 4, 'nome': 'Sul', 'sigla': 'S'},\n",
              "  'sigla': 'PR'},\n",
              " {'id': 42,\n",
              "  'nome': 'Santa Catarina',\n",
              "  'regiao': {'id': 4, 'nome': 'Sul', 'sigla': 'S'},\n",
              "  'sigla': 'SC'},\n",
              " {'id': 43,\n",
              "  'nome': 'Rio Grande do Sul',\n",
              "  'regiao': {'id': 4, 'nome': 'Sul', 'sigla': 'S'},\n",
              "  'sigla': 'RS'},\n",
              " {'id': 50,\n",
              "  'nome': 'Mato Grosso do Sul',\n",
              "  'regiao': {'id': 5, 'nome': 'Centro-Oeste', 'sigla': 'CO'},\n",
              "  'sigla': 'MS'},\n",
              " {'id': 51,\n",
              "  'nome': 'Mato Grosso',\n",
              "  'regiao': {'id': 5, 'nome': 'Centro-Oeste', 'sigla': 'CO'},\n",
              "  'sigla': 'MT'},\n",
              " {'id': 52,\n",
              "  'nome': 'Goiás',\n",
              "  'regiao': {'id': 5, 'nome': 'Centro-Oeste', 'sigla': 'CO'},\n",
              "  'sigla': 'GO'},\n",
              " {'id': 53,\n",
              "  'nome': 'Distrito Federal',\n",
              "  'regiao': {'id': 5, 'nome': 'Centro-Oeste', 'sigla': 'CO'},\n",
              "  'sigla': 'DF'}]"
            ]
          },
          "metadata": {
            "tags": []
          },
          "execution_count": 7
        }
      ]
    },
    {
      "cell_type": "code",
      "metadata": {
        "id": "Lppp7p_g8dNw"
      },
      "source": [
        "dataMunicipio.json()"
      ],
      "execution_count": null,
      "outputs": []
    },
    {
      "cell_type": "markdown",
      "metadata": {
        "id": "PEqSRpqy_Yp9"
      },
      "source": [
        "**Connect to database in Mongodb Cloud**"
      ]
    },
    {
      "cell_type": "code",
      "metadata": {
        "id": "lPzz-8MM89eG"
      },
      "source": [
        "client = pymongo.MongoClient(\"mongodb+srv://<user>:<password>@unicluster.ixhvw.mongodb.net/ibge?retryWrites=true&w=majority\")"
      ],
      "execution_count": 9,
      "outputs": []
    },
    {
      "cell_type": "code",
      "metadata": {
        "id": "whFrEHFB9B0D",
        "colab": {
          "base_uri": "https://localhost:8080/"
        },
        "outputId": "3bef6d7d-0f48-4d6c-e679-6d7483db88ba"
      },
      "source": [
        "banco = client.ibge\r\n",
        "album = banco.pnadc20203\r\n",
        "album.find_one()"
      ],
      "execution_count": 10,
      "outputs": [
        {
          "output_type": "execute_result",
          "data": {
            "text/plain": [
              "{'_id': ObjectId('600ce0685daa95c6616007ac'),\n",
              " 'ano': 2020,\n",
              " 'anosesco': 0.0,\n",
              " 'cor': 'Parda',\n",
              " 'graduacao': None,\n",
              " 'horastrab': None,\n",
              " 'idade': 62,\n",
              " 'ocup': None,\n",
              " 'renda': None,\n",
              " 'sexo': 'Mulher',\n",
              " 'trab': 'Pessoas fora da força de trabalho',\n",
              " 'trimestre': 3,\n",
              " 'uf': 'Acre'}"
            ]
          },
          "metadata": {
            "tags": []
          },
          "execution_count": 10
        }
      ]
    },
    {
      "cell_type": "markdown",
      "metadata": {
        "id": "gD2pPgeY_o2S"
      },
      "source": [
        "**Downloading the pnadc20203 (in database ibge) collection and converting it to the csv file**"
      ]
    },
    {
      "cell_type": "code",
      "metadata": {
        "id": "gifV7MHxJg4H"
      },
      "source": [
        "df = pd.DataFrame(list(album.find())).drop(['_id'], axis=1)\r\n",
        "df.to_csv('pnadc20203.csv', index=False)\r\n"
      ],
      "execution_count": 11,
      "outputs": []
    },
    {
      "cell_type": "markdown",
      "metadata": {
        "id": "qRtvaCIYAHWf"
      },
      "source": [
        "**Extracting the Region, State and county of ibge API and converting to csv**"
      ]
    },
    {
      "cell_type": "code",
      "metadata": {
        "id": "DQQiNoRc8dN2"
      },
      "source": [
        "df = pd.DataFrame(list(dataRegiao.json())).drop(['id'], axis=1)\n",
        "df.to_csv('regiao.csv', index=False)\n",
        "df = pd.DataFrame(list(dataEstado.json())).drop(['id'], axis=1)\n",
        "df.to_csv('estado.csv', index=False)\n",
        "df = pd.DataFrame(list(dataMunicipio.json())).drop(['id'], axis=1)\n",
        "df.to_csv('municipio.csv', index=False)\n",
        " \n",
        " "
      ],
      "execution_count": 12,
      "outputs": []
    },
    {
      "cell_type": "markdown",
      "metadata": {
        "id": "Ks0EdOQWAbNC"
      },
      "source": [
        "**Loading csv files to S3 AWS**"
      ]
    },
    {
      "cell_type": "code",
      "metadata": {
        "id": "Aieo_Xqn8dN3",
        "colab": {
          "base_uri": "https://localhost:8080/"
        },
        "outputId": "d15ab6d0-4983-4846-84cc-dc6376239cf4"
      },
      "source": [
        "ACCESS_KEY = '<AccessKey>'\n",
        "SECRET_KEY = '<SecretKey>'\n",
        "\n",
        "\n",
        "def upload_to_aws(local_file, bucket, s3_file):\n",
        "    s3 = boto3.client('s3', aws_access_key_id=ACCESS_KEY,\n",
        "                      aws_secret_access_key=SECRET_KEY)\n",
        "\n",
        "    try:\n",
        "        s3.upload_file(local_file, bucket, s3_file)\n",
        "        print(\"Upload Successful\")\n",
        "        return True\n",
        "    except FileNotFoundError:\n",
        "        print(\"The file was not found\")\n",
        "        return False\n",
        "    except NoCredentialsError:\n",
        "        print(\"Credentials not available\")\n",
        "        return False\n",
        "\n",
        "# Uploading files with the function 'upload_to_aws' created before\n",
        "uploaded = upload_to_aws('regiao.csv', 'igti-bootcamp-ed-2021-evangelista', 'regiao.csv')\n",
        "uploaded = upload_to_aws('estado.csv', 'igti-bootcamp-ed-2021-evangelista', 'estado.csv')\n",
        "uploaded = upload_to_aws('municipio.csv', 'igti-bootcamp-ed-2021-evangelista', 'municipio.csv')\n",
        "uploaded = upload_to_aws('pnadc20203.csv', 'igti-bootcamp-ed-2021-evangelista', 'mulheres.csv')"
      ],
      "execution_count": 13,
      "outputs": [
        {
          "output_type": "stream",
          "text": [
            "Upload Successful\n",
            "Upload Successful\n",
            "Upload Successful\n",
            "Upload Successful\n"
          ],
          "name": "stdout"
        }
      ]
    },
    {
      "cell_type": "code",
      "metadata": {
        "id": "pkXn_12X8dN5",
        "colab": {
          "base_uri": "https://localhost:8080/",
          "height": 578
        },
        "outputId": "8b1b5f77-c992-4b3f-894e-f6bc960ceced"
      },
      "source": [
        "from IPython.display import Image\r\n",
        "Image('Resultado.png')"
      ],
      "execution_count": 14,
      "outputs": [
        {
          "output_type": "execute_result",
          "data": {
            "image/png": "[encoded data removed]",
            "text/plain": [
              "<IPython.core.display.Image object>"
            ]
          },
          "metadata": {
            "tags": []
          },
          "execution_count": 14
        }
      ]
    }
  ]
}
