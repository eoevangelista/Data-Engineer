{
 "cells": [
  {
   "cell_type": "markdown",
   "metadata": {},
   "source": [
    "# Scheduling pipeline execution with Airflow"
   ]
  },
  {
   "cell_type": "code",
   "execution_count": null,
   "metadata": {},
   "outputs": [],
   "source": [
    "#Scheduled dag for Titanic data\n",
    "from airflow import DAG\n",
    "from airflow.operators.bash_operator import BashOperator\n",
    "from airflow.operators.python_operator import PythonOperator\n",
    "from datetime import datetime, timedelta\n",
    "import pandas as pd"
   ]
  },
  {
   "cell_type": "code",
   "execution_count": null,
   "metadata": {},
   "outputs": [],
   "source": [
    "#Default arguments \n",
    "default_args ={\n",
    "    'owner': 'Evangelista, Eduardo', \n",
    "    'dependes_on_past': False,\n",
    "    'start_date': datetime(2020, 01, 25, 15),\n",
    "    'email': ['eoevangelista@gmail.com', 'eoevangelista@gmail.com'],\n",
    "    'email_on_failure': False,\n",
    "    'email_on_retry': False,\n",
    "    \"retries\": 1,\n",
    "    \"retry_delay\": timedelta(minutes=1)\n",
    "}"
   ]
  },
  {
   "cell_type": "code",
   "execution_count": null,
   "metadata": {},
   "outputs": [],
   "source": [
    "#Let's define the DAG - Flow\n",
    "dag = DAG(\n",
    "    \"trein-02\", \n",
    "    description=\"Extract Titanic data from the internet and calculate the average age\",\n",
    "    default_args=default_args,\n",
    "    schedule_interval=\"*/2 * * * *\"\n",
    ")\n",
    "\n",
    "get_data = BashOperator(\n",
    "    task_id='get-data',\n",
    "    bash_command='curl https://raw.githubusercontent.com/A3Data/hermione/master/hermione/file_text/train.csv -o ~/train.csv',\n",
    "    dag=dag\n",
    ")"
   ]
  },
  {
   "cell_type": "code",
   "execution_count": null,
   "metadata": {},
   "outputs": [],
   "source": [
    "def calculate_mean_age():\n",
    "    df = pd.read_csv('~/train.csv')\n",
    "    med = df.Age.mean()\n",
    "    return med\n",
    "\n",
    "def print_age(**context):\n",
    "    value = context['task_instance'].xcom_pull(task_ids='calcula-idade-media')\n",
    "    print(f\"The average age on the Titanic was {value} years.\")\n",
    "\n",
    "task_idade_media =PythonOperator(\n",
    "    task_id='calcula-idade-media',\n",
    "    python_callable=calculate_mean_age,\n",
    "    dag=dag\n",
    ")\n",
    "\n",
    "task_print_idade = PythonOperator(\n",
    "    task_id='mostra-idade',\n",
    "    python_callable=print_age,\n",
    "    provide_context=True,\n",
    "    dag=dag\n",
    ")"
   ]
  },
  {
   "cell_type": "code",
   "execution_count": null,
   "metadata": {},
   "outputs": [],
   "source": [
    "get_data >> task_idade_media >> task_print_idade"
   ]
  },
  {
   "cell_type": "markdown",
   "metadata": {},
   "source": [
    "# Screenshots from Airflow application pipeline execution"
   ]
  },
  {
   "cell_type": "markdown",
   "metadata": {},
   "source": [
    "![Page1](Page1.png)"
   ]
  },
  {
   "cell_type": "markdown",
   "metadata": {},
   "source": [
    "![Page2](Page2.png)"
   ]
  },
  {
   "cell_type": "markdown",
   "metadata": {},
   "source": [
    "![Page3](Page3.png)"
   ]
  },
  {
   "cell_type": "markdown",
   "metadata": {},
   "source": [
    "![Page4](Page4.png)"
   ]
  }
 ],
 "metadata": {
  "kernelspec": {
   "display_name": "Python 3",
   "language": "python",
   "name": "python3"
  },
  "language_info": {
   "codemirror_mode": {
    "name": "ipython",
    "version": 3
   },
   "file_extension": ".py",
   "mimetype": "text/x-python",
   "name": "python",
   "nbconvert_exporter": "python",
   "pygments_lexer": "ipython3",
   "version": "3.6.11"
  }
 },
 "nbformat": 4,
 "nbformat_minor": 4
}
