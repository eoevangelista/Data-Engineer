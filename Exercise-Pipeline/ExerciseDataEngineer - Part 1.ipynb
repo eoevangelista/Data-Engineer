{
  "nbformat": 4,
  "nbformat_minor": 0,
  "metadata": {
    "kernelspec": {
      "display_name": "Python 3",
      "language": "python",
      "name": "python3"
    },
    "language_info": {
      "codemirror_mode": {
        "name": "ipython",
        "version": 3
      },
      "file_extension": ".py",
      "mimetype": "text/x-python",
      "name": "python",
      "nbconvert_exporter": "python",
      "pygments_lexer": "ipython3",
      "version": "3.6.11"
    },
    "colab": {
      "name": "DesafioFinal.ipynb",
      "provenance": [],
      "collapsed_sections": []
    }
  },
  "cells": [
    {
      "cell_type": "markdown",
      "metadata": {
        "id": "wkGBiDTLDEus"
      },
      "source": [
        "#**Exercise (part 1) about:**\r\n",
        "## ✓ Data Pipelines.\r\n",
        "## ✓ NoSQL database connection.\r\n",
        "## ✓ Use and connection in APIs.\r\n",
        "## ✓ Data Lake in S3 AWS.\r\n",
        "## ✓ Distributed data processing.  "
      ]
    },
    {
      "cell_type": "markdown",
      "metadata": {
        "id": "BtTCrmkN9cY8"
      },
      "source": [
        "***Install and manage software packages for the exercice***"
      ]
    },
    {
      "cell_type": "code",
      "metadata": {
        "colab": {
          "base_uri": "https://localhost:8080/"
        },
        "id": "gR-gVeKf8dNa",
        "outputId": "e6565070-fc11-4c3d-dd1a-f8a5356d5f9c"
      },
      "source": [
        "!pip install ibge # package from Pypi (Collection of APIs for the IBGE [Brazilian Institute of Geography and Statistics] Data Services in Brazil)\n",
        "!pip install boto3 # For connection with AWS S3\n",
        "!pip install pymongo[srv] # For connection with mongodb in cloud. "
      ],
      "execution_count": null,
      "outputs": [
        {
          "output_type": "stream",
          "text": [
            "Collecting ibge\n",
            "  Downloading https://files.pythonhosted.org/packages/7a/99/64971f16ea3ac11581b2f3d96be29b47a722371d91f12ce85f575aada7d2/ibge-0.0.5-py3-none-any.whl\n",
            "Requirement already satisfied: requests in /usr/local/lib/python3.6/dist-packages (from ibge) (2.23.0)\n",
            "Requirement already satisfied: idna<3,>=2.5 in /usr/local/lib/python3.6/dist-packages (from requests->ibge) (2.10)\n",
            "Requirement already satisfied: urllib3!=1.25.0,!=1.25.1,<1.26,>=1.21.1 in /usr/local/lib/python3.6/dist-packages (from requests->ibge) (1.24.3)\n",
            "Requirement already satisfied: certifi>=2017.4.17 in /usr/local/lib/python3.6/dist-packages (from requests->ibge) (2020.12.5)\n",
            "Requirement already satisfied: chardet<4,>=3.0.2 in /usr/local/lib/python3.6/dist-packages (from requests->ibge) (3.0.4)\n",
            "Installing collected packages: ibge\n",
            "Successfully installed ibge-0.0.5\n",
            "Collecting boto3\n",
            "\u001b[?25l  Downloading https://files.pythonhosted.org/packages/e2/4b/d16d94af2a53cdce2c1f59026938fe2b15e40a3e8b3db3fcbb371c1b75ea/boto3-1.17.4-py2.py3-none-any.whl (130kB)\n",
            "\u001b[K     |████████████████████████████████| 133kB 6.0MB/s \n",
            "\u001b[?25hCollecting s3transfer<0.4.0,>=0.3.0\n",
            "\u001b[?25l  Downloading https://files.pythonhosted.org/packages/ea/43/4b4a1b26eb03a429a4c37ca7fdf369d938bd60018fc194e94b8379b0c77c/s3transfer-0.3.4-py2.py3-none-any.whl (69kB)\n",
            "\u001b[K     |████████████████████████████████| 71kB 4.0MB/s \n",
            "\u001b[?25hCollecting jmespath<1.0.0,>=0.7.1\n",
            "  Downloading https://files.pythonhosted.org/packages/07/cb/5f001272b6faeb23c1c9e0acc04d48eaaf5c862c17709d20e3469c6e0139/jmespath-0.10.0-py2.py3-none-any.whl\n",
            "Collecting botocore<1.21.0,>=1.20.4\n",
            "\u001b[?25l  Downloading https://files.pythonhosted.org/packages/7b/81/2450e2b7f6ff15bfcbf9a60992a9a32a68d378ee18ee74f79c7034ea882c/botocore-1.20.4-py2.py3-none-any.whl (7.2MB)\n",
            "\u001b[K     |████████████████████████████████| 7.2MB 7.3MB/s \n",
            "\u001b[?25hRequirement already satisfied: python-dateutil<3.0.0,>=2.1 in /usr/local/lib/python3.6/dist-packages (from botocore<1.21.0,>=1.20.4->boto3) (2.8.1)\n",
            "Collecting urllib3<1.27,>=1.25.4\n",
            "\u001b[?25l  Downloading https://files.pythonhosted.org/packages/23/fc/8a49991f7905261f9ca9df5aa9b58363c3c821ce3e7f671895442b7100f2/urllib3-1.26.3-py2.py3-none-any.whl (137kB)\n",
            "\u001b[K     |████████████████████████████████| 143kB 43.6MB/s \n",
            "\u001b[?25hRequirement already satisfied: six>=1.5 in /usr/local/lib/python3.6/dist-packages (from python-dateutil<3.0.0,>=2.1->botocore<1.21.0,>=1.20.4->boto3) (1.15.0)\n",
            "\u001b[31mERROR: requests 2.23.0 has requirement urllib3!=1.25.0,!=1.25.1,<1.26,>=1.21.1, but you'll have urllib3 1.26.3 which is incompatible.\u001b[0m\n",
            "\u001b[31mERROR: datascience 0.10.6 has requirement folium==0.2.1, but you'll have folium 0.8.3 which is incompatible.\u001b[0m\n",
            "Installing collected packages: urllib3, jmespath, botocore, s3transfer, boto3\n",
            "  Found existing installation: urllib3 1.24.3\n",
            "    Uninstalling urllib3-1.24.3:\n",
            "      Successfully uninstalled urllib3-1.24.3\n",
            "Successfully installed boto3-1.17.4 botocore-1.20.4 jmespath-0.10.0 s3transfer-0.3.4 urllib3-1.26.3\n",
            "Requirement already satisfied: pymongo[srv] in /usr/local/lib/python3.6/dist-packages (3.11.3)\n",
            "Collecting dnspython<2.0.0,>=1.16.0; extra == \"srv\"\n",
            "\u001b[?25l  Downloading https://files.pythonhosted.org/packages/ec/d3/3aa0e7213ef72b8585747aa0e271a9523e713813b9a20177ebe1e939deb0/dnspython-1.16.0-py2.py3-none-any.whl (188kB)\n",
            "\u001b[K     |████████████████████████████████| 194kB 4.9MB/s \n",
            "\u001b[?25hInstalling collected packages: dnspython\n",
            "Successfully installed dnspython-1.16.0\n"
          ],
          "name": "stdout"
        }
      ]
    },
    {
      "cell_type": "markdown",
      "metadata": {
        "id": "4GCZD1EZ-j9H"
      },
      "source": [
        "**Importing modules to be used**"
      ]
    },
    {
      "cell_type": "code",
      "metadata": {
        "id": "mk97Vy2Y8dNj",
        "colab": {
          "base_uri": "https://localhost:8080/"
        },
        "outputId": "5415d300-c73b-4fff-fed6-84e86579ea6f"
      },
      "source": [
        "from bson.json_util import dumps\n",
        "from ibge.localidades import *\n",
        "import boto3\n",
        "import json\n",
        "import pymongo"
      ],
      "execution_count": null,
      "outputs": [
        {
          "output_type": "stream",
          "text": [
            "/usr/local/lib/python3.6/dist-packages/requests/__init__.py:91: RequestsDependencyWarning: urllib3 (1.26.3) or chardet (3.0.4) doesn't match a supported version!\n",
            "  RequestsDependencyWarning)\n"
          ],
          "name": "stderr"
        }
      ]
    },
    {
      "cell_type": "markdown",
      "metadata": {
        "id": "jK7RqHmF_Kl9"
      },
      "source": [
        "**Assigning and testing ibge loading**"
      ]
    },
    {
      "cell_type": "code",
      "metadata": {
        "scrolled": false,
        "colab": {
          "base_uri": "https://localhost:8080/"
        },
        "id": "vkAlIK7l8dNn",
        "outputId": "fc9065a0-5557-4167-d5e0-9637d55ef936"
      },
      "source": [
        "dataRegiao = Regioes()\n",
        "dataRegiao.count()"
      ],
      "execution_count": null,
      "outputs": [
        {
          "output_type": "execute_result",
          "data": {
            "text/plain": [
              "5"
            ]
          },
          "metadata": {
            "tags": []
          },
          "execution_count": 3
        }
      ]
    },
    {
      "cell_type": "code",
      "metadata": {
        "colab": {
          "base_uri": "https://localhost:8080/"
        },
        "id": "HocUVBze8dNo",
        "outputId": "3d7768ef-2798-4ea5-b378-9a5518bfe1ca"
      },
      "source": [
        "dataEstado = Estados()\n",
        "dataEstado.count()"
      ],
      "execution_count": null,
      "outputs": [
        {
          "output_type": "execute_result",
          "data": {
            "text/plain": [
              "27"
            ]
          },
          "metadata": {
            "tags": []
          },
          "execution_count": 4
        }
      ]
    },
    {
      "cell_type": "code",
      "metadata": {
        "colab": {
          "base_uri": "https://localhost:8080/"
        },
        "id": "OBGx7dz68dNq",
        "outputId": "4b9a5404-54bd-486c-cafe-3ce567444b28"
      },
      "source": [
        "dataMunicipio = Municipios()\n",
        "dataMunicipio.count()"
      ],
      "execution_count": null,
      "outputs": [
        {
          "output_type": "execute_result",
          "data": {
            "text/plain": [
              "5570"
            ]
          },
          "metadata": {
            "tags": []
          },
          "execution_count": 5
        }
      ]
    },
    {
      "cell_type": "code",
      "metadata": {
        "colab": {
          "base_uri": "https://localhost:8080/"
        },
        "id": "bVyS96Uq8dNt",
        "outputId": "39f7edcf-029c-4f04-ff31-03020d37ac22"
      },
      "source": [
        "dataRegiao.json()"
      ],
      "execution_count": null,
      "outputs": [
        {
          "output_type": "execute_result",
          "data": {
            "text/plain": [
              "[{'id': 1, 'nome': 'Norte', 'sigla': 'N'},\n",
              " {'id': 2, 'nome': 'Nordeste', 'sigla': 'NE'},\n",
              " {'id': 3, 'nome': 'Sudeste', 'sigla': 'SE'},\n",
              " {'id': 4, 'nome': 'Sul', 'sigla': 'S'},\n",
              " {'id': 5, 'nome': 'Centro-Oeste', 'sigla': 'CO'}]"
            ]
          },
          "metadata": {
            "tags": []
          },
          "execution_count": 6
        }
      ]
    },
    {
      "cell_type": "code",
      "metadata": {
        "colab": {
          "base_uri": "https://localhost:8080/"
        },
        "id": "jgGXxaVo8dNv",
        "outputId": "68b4d12d-f120-42fd-ee85-cc487d7ee1be"
      },
      "source": [
        "dataEstado.json()"
      ],
      "execution_count": null,
      "outputs": [
        {
          "output_type": "execute_result",
          "data": {
            "text/plain": [
              "[{'id': 11,\n",
              "  'nome': 'Rondônia',\n",
              "  'regiao': {'id': 1, 'nome': 'Norte', 'sigla': 'N'},\n",
              "  'sigla': 'RO'},\n",
              " {'id': 12,\n",
              "  'nome': 'Acre',\n",
              "  'regiao': {'id': 1, 'nome': 'Norte', 'sigla': 'N'},\n",
              "  'sigla': 'AC'},\n",
              " {'id': 13,\n",
              "  'nome': 'Amazonas',\n",
              "  'regiao': {'id': 1, 'nome': 'Norte', 'sigla': 'N'},\n",
              "  'sigla': 'AM'},\n",
              " {'id': 14,\n",
              "  'nome': 'Roraima',\n",
              "  'regiao': {'id': 1, 'nome': 'Norte', 'sigla': 'N'},\n",
              "  'sigla': 'RR'},\n",
              " {'id': 15,\n",
              "  'nome': 'Pará',\n",
              "  'regiao': {'id': 1, 'nome': 'Norte', 'sigla': 'N'},\n",
              "  'sigla': 'PA'},\n",
              " {'id': 16,\n",
              "  'nome': 'Amapá',\n",
              "  'regiao': {'id': 1, 'nome': 'Norte', 'sigla': 'N'},\n",
              "  'sigla': 'AP'},\n",
              " {'id': 17,\n",
              "  'nome': 'Tocantins',\n",
              "  'regiao': {'id': 1, 'nome': 'Norte', 'sigla': 'N'},\n",
              "  'sigla': 'TO'},\n",
              " {'id': 21,\n",
              "  'nome': 'Maranhão',\n",
              "  'regiao': {'id': 2, 'nome': 'Nordeste', 'sigla': 'NE'},\n",
              "  'sigla': 'MA'},\n",
              " {'id': 22,\n",
              "  'nome': 'Piauí',\n",
              "  'regiao': {'id': 2, 'nome': 'Nordeste', 'sigla': 'NE'},\n",
              "  'sigla': 'PI'},\n",
              " {'id': 23,\n",
              "  'nome': 'Ceará',\n",
              "  'regiao': {'id': 2, 'nome': 'Nordeste', 'sigla': 'NE'},\n",
              "  'sigla': 'CE'},\n",
              " {'id': 24,\n",
              "  'nome': 'Rio Grande do Norte',\n",
              "  'regiao': {'id': 2, 'nome': 'Nordeste', 'sigla': 'NE'},\n",
              "  'sigla': 'RN'},\n",
              " {'id': 25,\n",
              "  'nome': 'Paraíba',\n",
              "  'regiao': {'id': 2, 'nome': 'Nordeste', 'sigla': 'NE'},\n",
              "  'sigla': 'PB'},\n",
              " {'id': 26,\n",
              "  'nome': 'Pernambuco',\n",
              "  'regiao': {'id': 2, 'nome': 'Nordeste', 'sigla': 'NE'},\n",
              "  'sigla': 'PE'},\n",
              " {'id': 27,\n",
              "  'nome': 'Alagoas',\n",
              "  'regiao': {'id': 2, 'nome': 'Nordeste', 'sigla': 'NE'},\n",
              "  'sigla': 'AL'},\n",
              " {'id': 28,\n",
              "  'nome': 'Sergipe',\n",
              "  'regiao': {'id': 2, 'nome': 'Nordeste', 'sigla': 'NE'},\n",
              "  'sigla': 'SE'},\n",
              " {'id': 29,\n",
              "  'nome': 'Bahia',\n",
              "  'regiao': {'id': 2, 'nome': 'Nordeste', 'sigla': 'NE'},\n",
              "  'sigla': 'BA'},\n",
              " {'id': 31,\n",
              "  'nome': 'Minas Gerais',\n",
              "  'regiao': {'id': 3, 'nome': 'Sudeste', 'sigla': 'SE'},\n",
              "  'sigla': 'MG'},\n",
              " {'id': 32,\n",
              "  'nome': 'Espírito Santo',\n",
              "  'regiao': {'id': 3, 'nome': 'Sudeste', 'sigla': 'SE'},\n",
              "  'sigla': 'ES'},\n",
              " {'id': 33,\n",
              "  'nome': 'Rio de Janeiro',\n",
              "  'regiao': {'id': 3, 'nome': 'Sudeste', 'sigla': 'SE'},\n",
              "  'sigla': 'RJ'},\n",
              " {'id': 35,\n",
              "  'nome': 'São Paulo',\n",
              "  'regiao': {'id': 3, 'nome': 'Sudeste', 'sigla': 'SE'},\n",
              "  'sigla': 'SP'},\n",
              " {'id': 41,\n",
              "  'nome': 'Paraná',\n",
              "  'regiao': {'id': 4, 'nome': 'Sul', 'sigla': 'S'},\n",
              "  'sigla': 'PR'},\n",
              " {'id': 42,\n",
              "  'nome': 'Santa Catarina',\n",
              "  'regiao': {'id': 4, 'nome': 'Sul', 'sigla': 'S'},\n",
              "  'sigla': 'SC'},\n",
              " {'id': 43,\n",
              "  'nome': 'Rio Grande do Sul',\n",
              "  'regiao': {'id': 4, 'nome': 'Sul', 'sigla': 'S'},\n",
              "  'sigla': 'RS'},\n",
              " {'id': 50,\n",
              "  'nome': 'Mato Grosso do Sul',\n",
              "  'regiao': {'id': 5, 'nome': 'Centro-Oeste', 'sigla': 'CO'},\n",
              "  'sigla': 'MS'},\n",
              " {'id': 51,\n",
              "  'nome': 'Mato Grosso',\n",
              "  'regiao': {'id': 5, 'nome': 'Centro-Oeste', 'sigla': 'CO'},\n",
              "  'sigla': 'MT'},\n",
              " {'id': 52,\n",
              "  'nome': 'Goiás',\n",
              "  'regiao': {'id': 5, 'nome': 'Centro-Oeste', 'sigla': 'CO'},\n",
              "  'sigla': 'GO'},\n",
              " {'id': 53,\n",
              "  'nome': 'Distrito Federal',\n",
              "  'regiao': {'id': 5, 'nome': 'Centro-Oeste', 'sigla': 'CO'},\n",
              "  'sigla': 'DF'}]"
            ]
          },
          "metadata": {
            "tags": []
          },
          "execution_count": 7
        }
      ]
    },
    {
      "cell_type": "code",
      "metadata": {
        "id": "Lppp7p_g8dNw"
      },
      "source": [
        "dataMunicipio.json()"
      ],
      "execution_count": null,
      "outputs": []
    },
    {
      "cell_type": "markdown",
      "metadata": {
        "id": "PEqSRpqy_Yp9"
      },
      "source": [
        "**Connect to database in Mongodb Cloud**"
      ]
    },
    {
      "cell_type": "code",
      "metadata": {
        "id": "lPzz-8MM89eG"
      },
      "source": [
        "client = pymongo.MongoClient(\"mongodb+srv://<user>:<password>@unicluster.ixhvw.mongodb.net/ibge?retryWrites=true&w=majority\")"
      ],
      "execution_count": null,
      "outputs": []
    },
    {
      "cell_type": "code",
      "metadata": {
        "colab": {
          "base_uri": "https://localhost:8080/"
        },
        "id": "whFrEHFB9B0D",
        "outputId": "e6a786d5-8bd2-4442-c2cf-779e58c7dc08"
      },
      "source": [
        "banco = client.ibge\r\n",
        "album = banco.pnadc20203\r\n",
        "album.find_one()"
      ],
      "execution_count": null,
      "outputs": [
        {
          "output_type": "execute_result",
          "data": {
            "text/plain": [
              "{'_id': ObjectId('600ce0685daa95c6616007ac'),\n",
              " 'ano': 2020,\n",
              " 'anosesco': 0.0,\n",
              " 'cor': 'Parda',\n",
              " 'graduacao': None,\n",
              " 'horastrab': None,\n",
              " 'idade': 62,\n",
              " 'ocup': None,\n",
              " 'renda': None,\n",
              " 'sexo': 'Mulher',\n",
              " 'trab': 'Pessoas fora da força de trabalho',\n",
              " 'trimestre': 3,\n",
              " 'uf': 'Acre'}"
            ]
          },
          "metadata": {
            "tags": []
          },
          "execution_count": 10
        }
      ]
    },
    {
      "cell_type": "markdown",
      "metadata": {
        "id": "gD2pPgeY_o2S"
      },
      "source": [
        "**Downloading the pnadc20203 (in database ibge) collection and converting it to the json file**"
      ]
    },
    {
      "cell_type": "code",
      "metadata": {
        "id": "dL6aDhYu9E5d"
      },
      "source": [
        "cursor = album.find({})\r\n",
        "with open('pnadc20203.json', 'w') as file:\r\n",
        "        file.write('[')\r\n",
        "        for document in cursor:\r\n",
        "            file.write(dumps(document))\r\n",
        "            file.write(',')\r\n",
        "        file.write(']')"
      ],
      "execution_count": null,
      "outputs": []
    },
    {
      "cell_type": "markdown",
      "metadata": {
        "id": "qRtvaCIYAHWf"
      },
      "source": [
        "**Extracting the Region, State and county of ibge API and converting to Json**"
      ]
    },
    {
      "cell_type": "code",
      "metadata": {
        "id": "DQQiNoRc8dN2"
      },
      "source": [
        "with open('dataRegiao.json', 'w') as outfile:\n",
        "    json.dump(dataRegiao.json(), outfile)\n",
        "with open('dataEstado.json', 'w') as outfile:\n",
        "    json.dump(dataEstado.json(), outfile)    \n",
        "with open('dataMunicipio.json', 'w') as outfile:\n",
        "    json.dump(dataMunicipio.json(), outfile)"
      ],
      "execution_count": null,
      "outputs": []
    },
    {
      "cell_type": "markdown",
      "metadata": {
        "id": "Ks0EdOQWAbNC"
      },
      "source": [
        "**Loading JSON files to S3 AWS**"
      ]
    },
    {
      "cell_type": "code",
      "metadata": {
        "colab": {
          "base_uri": "https://localhost:8080/"
        },
        "id": "Aieo_Xqn8dN3",
        "outputId": "5add00d3-0c8b-4e64-c61d-94f1594c5f1c"
      },
      "source": [
        "ACCESS_KEY = '<AccessKey>'\n",
        "SECRET_KEY = '<SecretKey>'\n",
        "\n",
        "\n",
        "def upload_to_aws(local_file, bucket, s3_file):\n",
        "    s3 = boto3.client('s3', aws_access_key_id=ACCESS_KEY,\n",
        "                      aws_secret_access_key=SECRET_KEY)\n",
        "\n",
        "    try:\n",
        "        s3.upload_file(local_file, bucket, s3_file)\n",
        "        print(\"Upload Successful\")\n",
        "        return True\n",
        "    except FileNotFoundError:\n",
        "        print(\"The file was not found\")\n",
        "        return False\n",
        "    except NoCredentialsError:\n",
        "        print(\"Credentials not available\")\n",
        "        return False\n",
        "\n",
        "# Uploading files with the function 'upload_to_aws' created before\n",
        "uploaded = upload_to_aws('dataRegiao.json', 'igti-bootcamp-ed-2021-evangelista', 'regiao.json')\n",
        "uploaded = upload_to_aws('dataEstado.json', 'igti-bootcamp-ed-2021-evangelista', 'estado.json')\n",
        "uploaded = upload_to_aws('dataMunicipio.json', 'igti-bootcamp-ed-2021-evangelista', 'municipio.json')\n",
        "uploaded = upload_to_aws('pnadc20203.json', 'igti-bootcamp-ed-2021-evangelista', 'mulheres.json')"
      ],
      "execution_count": null,
      "outputs": [
        {
          "output_type": "stream",
          "text": [
            "Upload Successful\n",
            "Upload Successful\n",
            "Upload Successful\n",
            "Upload Successful\n"
          ],
          "name": "stdout"
        }
      ]
    },
    {
      "cell_type": "markdown",
      "metadata": {
        "id": "EHbJKYZXMQ1B"
      },
      "source": [
        "**Files copied to AWS S3.**"
      ]
    },
    {
      "cell_type": "code",
      "metadata": {
        "colab": {
          "base_uri": "https://localhost:8080/",
          "height": 620
        },
        "id": "sPGb40rDLkSG",
        "outputId": "214cac04-e819-4b61-d6f1-6b013a5db7c0"
      },
      "source": [
        "from IPython.display import Image\r\n",
        "Image('ResultadoS3.png')"
      ],
      "execution_count": 17,
      "outputs": [
        {
          "output_type": "execute_result",
          "data": {
            "image/png": "[encoded data removed]",
            "text/plain": [
              "<IPython.core.display.Image object>"
            ]
          },
          "metadata": {
            "tags": []
          },
          "execution_count": 17
        }
      ]
    }
  ]
}